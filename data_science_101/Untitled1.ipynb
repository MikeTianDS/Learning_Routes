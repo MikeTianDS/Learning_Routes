{
 "cells": [
  {
   "cell_type": "code",
   "execution_count": 35,
   "metadata": {},
   "outputs": [
    {
     "name": "stdout",
     "output_type": "stream",
     "text": [
      "11\n",
      "9\n"
     ]
    }
   ],
   "source": [
    "n = int(input())\n",
    "    \n",
    "def factorial(n):\n",
    "    fn1 = 1\n",
    "    for i in range(1,n + 1):\n",
    "       fn1 = fn1*i\n",
    "    return fn1\n",
    "\n",
    "fn=1\n",
    "for i in range(1,n+1):\n",
    "    fn = fn*factorial(i)\n",
    "    \n",
    "str_fn = str(fn)\n",
    "counter = 0\n",
    "for i in str_fn[::-1]:\n",
    "    if i == '0':\n",
    "        counter += 1\n",
    "    else:\n",
    "        break\n",
    "        \n",
    "print(counter)"
   ]
  },
  {
   "cell_type": "code",
   "execution_count": 33,
   "metadata": {},
   "outputs": [
    {
     "name": "stdout",
     "output_type": "stream",
     "text": [
      "5\n",
      "34560\n"
     ]
    }
   ],
   "source": [
    "n = int(input())\n",
    "    \n",
    "def factorial(n):\n",
    "    fn1 = 1\n",
    "    for i in range(1,n + 1):\n",
    "       fn1 = fn1*i\n",
    "    return fn1\n",
    "\n",
    "fn=1\n",
    "for i in range(1,n+1):\n",
    "    fn = fn*factorial(i)\n",
    "print(fn)"
   ]
  },
  {
   "cell_type": "code",
   "execution_count": 23,
   "metadata": {},
   "outputs": [
    {
     "data": {
      "text/plain": [
       "24"
      ]
     },
     "execution_count": 23,
     "metadata": {},
     "output_type": "execute_result"
    }
   ],
   "source": [
    "factorial(4)"
   ]
  },
  {
   "cell_type": "code",
   "execution_count": 2,
   "metadata": {},
   "outputs": [
    {
     "name": "stdout",
     "output_type": "stream",
     "text": [
      "请输入一个数字: 5\n",
      "5 的阶乘为 120\n"
     ]
    }
   ],
   "source": [
    "num = int(input(\"请输入一个数字: \"))\n",
    "factorial = 1\n",
    " \n",
    "# 查看数字是负数，0 或 正数\n",
    "if num < 0:\n",
    "   print(\"抱歉，负数没有阶乘\")\n",
    "elif num == 0:\n",
    "   print(\"0 的阶乘为 1\")\n",
    "else:\n",
    "   for i in range(1,num + 1):\n",
    "       factorial = factorial*i\n",
    "   print(\"%d 的阶乘为 %d\" %(num,factorial))\n",
    "\n",
    "def factorial(n):\n",
    "    fn = 1\n",
    "    for i in range(1,num + 1):\n",
    "       fn = fn*i"
   ]
  },
  {
   "cell_type": "code",
   "execution_count": 14,
   "metadata": {},
   "outputs": [],
   "source": [
    "def factorial(n):\n",
    "    fn1 = 1\n",
    "    for i in range(1,n + 1):\n",
    "       fn1 = fn1*i\n",
    "    return fn1\n"
   ]
  },
  {
   "cell_type": "code",
   "execution_count": 15,
   "metadata": {},
   "outputs": [
    {
     "name": "stdout",
     "output_type": "stream",
     "text": [
      "120\n"
     ]
    }
   ],
   "source": [
    "a= factorial(5)\n",
    "print(a)"
   ]
  }
 ],
 "metadata": {
  "kernelspec": {
   "display_name": "Python 3",
   "language": "python",
   "name": "python3"
  },
  "language_info": {
   "codemirror_mode": {
    "name": "ipython",
    "version": 3
   },
   "file_extension": ".py",
   "mimetype": "text/x-python",
   "name": "python",
   "nbconvert_exporter": "python",
   "pygments_lexer": "ipython3",
   "version": "3.6.5"
  }
 },
 "nbformat": 4,
 "nbformat_minor": 2
}
